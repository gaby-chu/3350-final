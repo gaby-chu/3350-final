{
 "cells": [
  {
   "cell_type": "markdown",
   "id": "7e773e98-e97a-415d-b404-86681d4b95ff",
   "metadata": {},
   "source": [
    "### **Introduction and hypothesis.** What problem are you working on? Why is it interesting and important? What have other people said about it? What do you expect to find?\n",
    "\n",
    "\n",
    "We would like to investigate how homogeneous the American music industry is by exploring the lyrics of the most popular song within the past xx decades.\n",
    "\n",
    "\n",
    "\n",
    "The music market is multi-billion dollar industry, and it is rapidly expanding each year. \n",
    "\n",
    "Hypothesis: ??\n",
    "\n",
    "\n",
    "### **Data and Methods**\n",
    "\n",
    "Our data is a set of song lyrics that come from the Billboard Top 100 chart. This chart dates back to the 1950s and is updated every week with the song name and artist for the top 100 songs of that week. Other data that it includes is the song's position the week before, the peak position of the song, and the number of weeks that it has spent on the chart. Our songs span the years xxxx to 20xx. To get the song titles and artists, we scraped the Billboard chart website (https://www.billboard.com/charts/hot-100/) and got the data from the selected years. Using this data, we scraped Genius, the world's biggest collection of song lyrics, the get the lyrics for each of the songs that we collected from Billboard. \n",
    "\n",
    "\n",
    "A limitation of this data could arise from the way that Billboard calculates its top songs. This is because Billboard has been collecting information since 1958, but the way music is consumed in society has changed significantly through the years. When the chart was originially made, the top songs were calculated through surveys of a combination of retail sales, DJ plays, and jukebox activity. However, jukebox activity eventually become obsolete, and thus stopped being used to calculate the popularity of songs. Some more significant changes were made in the 2000s. In 2007, on-demand streaming (ODS) was included as part of the formulation to calculate the top 100 songs. At first, this only included AOL music and Yahoo! Music, but in 2013, Billboard introduced YouTube streams to the formula, including audio from user-generated clips, making streaming a discernable part of the Hot 100. Because of these changes, genres such as rap began to dominate a larger portion of the charts, and viral songs also began to chart. However, because of this history of the charts, a limitation that could arise is that fact that songs before the introduction of YouTube and other large streaming platforms to the Hot 100 calculation, songs that were popular largely only online have the possibility of not being reflected on the charts. Further, in 2017 the formulation changed more, with more emphasis on paid subscription streams. Granted, Billboard for the most part did most likely keep up the times, there are probably songs that were very popular, but are not reflected on, as high up on, the charts as they should be, considering the power of online streaming services. (https://www.billboard.com/pro/billboard-changes-streaming-weighting-hot-100-billboard-200/)\n",
    "\n",
    "\n",
    "\n",
    "In order to carry about this experiment, we will use LDA topic modeling on the song lyrics that we have collected. This will allow us to find the topics in a set of songs, and using these results, we will be able to track the topics of the songs for those certain sets of songs. For example, we could find the topics in the songs that have spent the most time in the number one position, the songs that have spent the most time in the charts altogether, the songs by the artists that have spent the most time in the charts, and more. LDA would be appropriate because it allows us to find the degree to which the topical distribution in each document is expected to be sparse. Topical sparsity is advantageous in terms of interpretability which is super important for being about to understand our results. In addition, using LDA to break down the songs by topic would allow us to avoid some of the issues that straight word counts could lead us to due to the amount of lyrics that we are working with, such as overfitting in our models due to the feature space having too many dimensions. Using these results, we could try to predict when a certain song was released based on the topic of the song to see if there has been a change in the popularity of certain topics over time. We will do this by fit and predicting a linear regression model based on the topics. To evaulate this model, we can cross-validate to find model performance. This would an appropriate method because linear regression would allow us to get a regression line that would be useful for plotting actual vs predicted years with topics as the features. Furthermore, we will look into a particular topic and find the most popular words used in the songs. Using word embedding, we could see if the meaning of the most popular words have shifted over time by looking at the words that are most closely related to the words and comparing the similar words between different years. Word embedding is appropriate because it observes the relationships between the tokens in the lyrics, measuiring semantic similarity, giving us distances between pairs of words so that we can use to get word vectors that place simliar words close together in vector space. This way, we can build document vectors that we can use to observe patterns in the corpus of song lyrics. "
   ]
  },
  {
   "cell_type": "code",
   "execution_count": null,
   "id": "386a6682-4655-4be5-bf3f-0e3134402506",
   "metadata": {},
   "outputs": [],
   "source": []
  }
 ],
 "metadata": {
  "kernelspec": {
   "display_name": "Python 3 (ipykernel)",
   "language": "python",
   "name": "python3"
  },
  "language_info": {
   "codemirror_mode": {
    "name": "ipython",
    "version": 3
   },
   "file_extension": ".py",
   "mimetype": "text/x-python",
   "name": "python",
   "nbconvert_exporter": "python",
   "pygments_lexer": "ipython3",
   "version": "3.10.4"
  }
 },
 "nbformat": 4,
 "nbformat_minor": 5
}
