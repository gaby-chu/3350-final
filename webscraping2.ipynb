{
 "cells": [
  {
   "cell_type": "code",
   "execution_count": 2,
   "metadata": {},
   "outputs": [],
   "source": [
    "import pandas as pd\n",
    "import requests\n",
    "from bs4 import BeautifulSoup\n",
    "import matplotlib.pyplot as plt\n",
    "import numpy as np\n",
    "import os\n",
    "import re\n",
    "from   sklearn.feature_extraction.text import TfidfVectorizer\n",
    "from   sklearn.feature_selection import SelectKBest, mutual_info_classif\n",
    "from   sklearn.linear_model import LogisticRegression, LinearRegression\n",
    "from   sklearn.model_selection import cross_val_score\n",
    "from   sklearn.preprocessing import StandardScaler"
   ]
  },
  {
   "cell_type": "markdown",
   "metadata": {
    "tags": []
   },
   "source": [
    "# Final Project\n",
    "#### Table of Contents\n",
    "0. Project Team\n",
    "1. Introduction and Hypothesis\n",
    "2. Data and Methods\n",
    "        I. Dataset Creation\n",
    "        II. Metadata + Dataset Information\n",
    "3. Results\n",
    "4. Conclusion and Discussion\n",
    "5. Resources Consulted\n",
    "6. Bibliography"
   ]
  },
  {
   "cell_type": "markdown",
   "metadata": {},
   "source": [
    "## 0. Project Team"
   ]
  },
  {
   "cell_type": "markdown",
   "metadata": {},
   "source": [
    "Estelle Hooper (ehh52) and Gabriella Chu (gc386)"
   ]
  },
  {
   "cell_type": "markdown",
   "metadata": {},
   "source": [
    "## 1. Introduction and Hypothesis"
   ]
  },
  {
   "cell_type": "markdown",
   "metadata": {},
   "source": [
    "## 2. Data and methods"
   ]
  },
  {
   "cell_type": "markdown",
   "metadata": {},
   "source": [
    "### I. Dataset Creation"
   ]
  },
  {
   "cell_type": "markdown",
   "metadata": {},
   "source": [
    "To answer our research question, we created our own dataset consisting of the Billboard Hot 100 songs for every week in the years 2000-2021, covering two decades of music **(roughly, 22 years * 52 weeks * 100 songs = 114,400 music entries)**. Each week, Billboard.com ranks the \"Hot 100\" songs, stating its peak position on the chart (of all time) and the number of weeks it has been on the chart. Because Billboard provides archives of this information, we webscraped this data using Beautiful Soup to obtain the most popular songs of the week and then used the song title and artist information to generate links in order to webscrape lyrics from Genius.com.<br>\n",
    "\n",
    "To collect this data, we wrote the following functions:\n",
    "- `song_data()` webscrapes the Billboard Hot 100 charts to get song metadata and the lyrics of those songs, stores it all in a pandas dataframe\n",
    "- `append_lyrics()` (helper function) webscrapes Genius lyrics using information from song metadata.\n",
    "- `valid_dates()` from a list of dates, keeps only those that have a real Billboard chart\n",
    "\n",
    "Doing this was extremely computationally expensive. Generating the song data (metadata + lyrics) for one week only takes 1.5 minutes, but seeing as we wanted to cover every weekly chart for 22 years, this means the time needed to collect this data is in total **28.6 hours**! To do this within a reasonable amount of time, we split the work among 21 notebooks, ran them simultaneously, and concatenated them all in this notebook (the file is too big to push to Github). We demo these functions with only one week below."
   ]
  },
  {
   "cell_type": "code",
   "execution_count": 3,
   "metadata": {},
   "outputs": [],
   "source": [
    "def song_data(date=''):\n",
    "    '''\n",
    "    The Billboard Hot 100 chart represents the Hot 100 songs for that week.\n",
    "    \n",
    "    date: a string, in the form \"YYYY-MM-DD\". For example, \"2022-05-16\" represents May 16, 2022. If no date specified, function\n",
    "          will select today's chart.\n",
    "    returns: a pandas dataframe containing metadata for Billboard Hot 100 songs of the week of the specified date.\n",
    "    columns: rank: rank of the week (1-100)\n",
    "             date: a pandas datetime object. date of the chart as stated on the Billboard website, \n",
    "             which uses the Saturday to identify the week (so it is the same week as the user input, but the Saturday\n",
    "             of that week),\n",
    "             title: title of the song,\n",
    "             artist1: main artist,\n",
    "             artist2: a list of the rest of the artists. np.nan if there are none.\n",
    "             peak_pos: peak position of the song,\n",
    "             wks_chart: # of weeks the song has been on the chart\n",
    "             b_url: url to the billboard chart\n",
    "    '''\n",
    "    lsongs=[]\n",
    "    lartists=[]\n",
    "    artist1=[]\n",
    "    artist2=[]\n",
    "    lpeak_pos=[]\n",
    "    lwks_chart=[]\n",
    "    \n",
    "    URL='https://www.billboard.com/charts/hot-100/'+date\n",
    "\n",
    "    page=requests.get(URL)\n",
    "    soup=BeautifulSoup(page.content, 'lxml')\n",
    "  \n",
    "    ### get the first song, bc it's in a different div container :(\n",
    "    song1 = soup.find(\"h3\",id='title-of-a-story', class_=\"c-title a-no-trucate a-font-primary-bold-s u-letter-spacing-0021 u-font-size-23@tablet lrv-u-font-size-16 u-line-height-125 u-line-height-normal@mobile-max a-truncate-ellipsis u-max-width-245 u-max-width-230@tablet-only u-letter-spacing-0028@tablet\")\n",
    "    lsongs.append(song1.text.strip())\n",
    "    \n",
    "    ### get the first artist, bc it's in a different div container :(\n",
    "    artistf=soup.find(\"span\", class_=\"c-label a-no-trucate a-font-primary-s lrv-u-font-size-14@mobile-max u-line-height-normal@mobile-max u-letter-spacing-0021 lrv-u-display-block a-truncate-ellipsis-2line u-max-width-330 u-max-width-230@tablet-only u-font-size-20@tablet\")\n",
    "    lartists.append(artistf.text.strip())\n",
    "    \n",
    "    ### get the first peak position, bc it's in a different div container :(\n",
    "    nums=soup.find_all('span', class_=\"c-label a-font-primary-bold-l a-font-primary-m@mobile-max u-font-weight-normal@mobile-max lrv-u-padding-tb-050@mobile-max u-font-size-32@tablet\")\n",
    "    nums1=[]\n",
    "    for x in nums:\n",
    "        nums1.append(x.text.strip())\n",
    "        \n",
    "    lpeak_pos.append(nums1[1])\n",
    "    ### get the first weeks on chart, bc it's in a different div container\n",
    "    lwks_chart.append(nums1[2])\n",
    "    \n",
    "    ### get last 99 songs\n",
    "    songs = soup.find_all(\"h3\", class_=\"c-title a-no-trucate a-font-primary-bold-s u-letter-spacing-0021 lrv-u-font-size-18@tablet lrv-u-font-size-16 u-line-height-125 u-line-height-normal@mobile-max a-truncate-ellipsis u-max-width-330 u-max-width-230@tablet-only\", id=\"title-of-a-story\")\n",
    "    for song in songs:\n",
    "        lsongs.append(song.text.strip())\n",
    "    \n",
    "    ### get last 99 artists\n",
    "    artists = soup.find_all(\"span\", class_=\"c-label a-no-trucate a-font-primary-s lrv-u-font-size-14@mobile-max u-line-height-normal@mobile-max u-letter-spacing-0021 lrv-u-display-block a-truncate-ellipsis-2line u-max-width-330 u-max-width-230@tablet-only\")\n",
    "    for artist in artists:\n",
    "        lartists.append(artist.text.strip())\n",
    "        \n",
    "    ### get last 99 peak position\n",
    "    all_num=[]\n",
    "    peak_pos = soup.find_all(\"span\", class_=\"c-label a-font-primary-m lrv-u-padding-tb-050@mobile-max\")\n",
    "    for num in peak_pos:\n",
    "        all_num.append(num.text.strip())\n",
    "    \n",
    "    x=1\n",
    "    for peak in all_num:\n",
    "        if x <= len(all_num)-5:\n",
    "            lpeak_pos.append(all_num[x])\n",
    "            x=x+6\n",
    "\n",
    "    ### get last 99 weeks on chart\n",
    "    y=2\n",
    "    for wk in all_num:\n",
    "        if y <= len(all_num)-4:\n",
    "            lwks_chart.append(all_num[y])\n",
    "            y=y+6            \n",
    "    \n",
    "    ### get date as listed on the chart, aka the Saturday of the week of the user input\n",
    "    date=soup.find('h2', id=\"section-heading\")\n",
    "    cdate=pd.to_datetime(date.text.strip().replace(\"Week of \",''))\n",
    "    \n",
    "    \n",
    "    ### separate artists into artist1 and artist2\n",
    "    for a in lartists:\n",
    "        if (\"X &\" not in a) and (\"X Featuring\" not in a) and (\"X /\" not in a):\n",
    "            a=a.replace(\" X \",\",\")\n",
    "        a=a.replace(\"Featuring\",\",\")\n",
    "        a=a.replace(\"&\",\",\")   \n",
    "        a=a.replace(\" / \",\",\")\n",
    "        a=a.replace('Feat.',',')\n",
    "        a=a.replace('feat',',')\n",
    "        a=a.replace('featuring',',')\n",
    "        List=a.split(\",\")\n",
    "        artists = [i.strip() for i in List]\n",
    "        artist1.append(artists[0])\n",
    "        if len(artists)==1:\n",
    "            artist2.append(np.nan)\n",
    "        else:\n",
    "            artist2.append(artists[1:])\n",
    "    \n",
    "    metadata=pd.DataFrame()\n",
    "    metadata['rank']=(range(1,101)) ### get rank position\n",
    "    metadata['date']=cdate\n",
    "    metadata['title']=lsongs\n",
    "    metadata['artist1']=artist1\n",
    "    metadata['artist2']=artist2\n",
    "    metadata['peak_pos']=lpeak_pos\n",
    "    metadata['wks_chart']=lwks_chart\n",
    "    metadata['b_url']=URL\n",
    "    \n",
    "    metadata=append_lyrics(metadata)\n",
    "    metadata.reset_index(inplace=True, drop=True)\n",
    "\n",
    "    return metadata"
   ]
  },
  {
   "cell_type": "code",
   "execution_count": 4,
   "metadata": {},
   "outputs": [],
   "source": [
    "def append_lyrics(metadata):\n",
    "    '''\n",
    "    a helper function for song_data(). gets the song lyrics for a given song. appends the\n",
    "    song lyrics for a song from Genius.com to a \"lyrics\" column.\n",
    "    \n",
    "    If the function cannot find the song on the Genius lyrics website, it will drop the entire observation from the dataset.\n",
    "    \n",
    "    metadata: a pandas dataframe, created from song_data(). at the least contains\n",
    "              the title column and the artist1 column.\n",
    "    returns: a pandas dataframe of the original dataframe with a lyrics column and URL to the\n",
    "             Genius website the lyrics were taken from.\n",
    "    '''\n",
    "    all_lyrics=[]\n",
    "    all_URL=[]\n",
    "    title=metadata.title.values\n",
    "    artist1=metadata.artist1.values\n",
    "    for x in range(len(title)):\n",
    "        \n",
    "        #construct URL\n",
    "\n",
    "        t=title[x]\n",
    "        a=artist1[x]\n",
    "  \n",
    "        #clean punctuation/formatting of artist and song title for URL\n",
    "        t=re.sub(r'[^\\w\\s]', '', t)\n",
    "        a=re.sub(r'[!$/]', '-', a)\n",
    "        a=re.sub(r'[\"\\\\#%&;\\()*\\[\\]+,.:;<=>?@^_`{|}~']', '', a) #[\\\\] \n",
    "        \n",
    "        #concat\n",
    "        URL= \"https://www.genius.com/\"+a.replace(' ','-')+'-'+t.replace(' ','-')+'-lyrics'\n",
    "        URL=URL.replace('--','-')\n",
    "        \n",
    "        #webscrape\n",
    "        page=requests.get(URL)\n",
    "        soup=BeautifulSoup(page.content, 'lxml')\n",
    "        \n",
    "        #check if URL works\n",
    "        if 'Oops! Page not found' not in soup.text.strip():\n",
    "            lyrics=soup.find_all('div', class_='Lyrics__Container-sc-1ynbvzw-6 jYfhrf')\n",
    "            Lyrics = [re.sub(r\"\\[.*?\\]\",'',i.text.strip()) for i in lyrics]\n",
    "            LYRICS=\" \".join(Lyrics)\n",
    "            all_lyrics.append(LYRICS)\n",
    "            all_URL.append(URL)\n",
    "        \n",
    "        #drop song from dataset if website does not exist\n",
    "        else: \n",
    "            #print(URL)\n",
    "            metadata.drop([x], inplace=True)\n",
    "    \n",
    "    metadata['lyrics']=all_lyrics\n",
    "    metadata['g_url']=all_URL\n",
    "    return metadata"
   ]
  },
  {
   "cell_type": "markdown",
   "metadata": {},
   "source": [
    "#### A. Code Demo: This Week's Billboard Hot 100 Songs (Metadata + Lyrics)"
   ]
  },
  {
   "cell_type": "markdown",
   "metadata": {},
   "source": [
    "We demonstrate our function below using this week's chart, which requires no function parameter. As seen below, out of today's Hot 100 songs, we collected the data for 94. This is because we could not account for extreme edge cases in our function (such as songs with a large amount of artists and artists with interesting punctuation) and found that for certain Genius.com songs, the links were named inconsistently."
   ]
  },
  {
   "cell_type": "code",
   "execution_count": 5,
   "metadata": {},
   "outputs": [
    {
     "name": "stdout",
     "output_type": "stream",
     "text": [
      "CPU times: total: 22.9 s\n",
      "Wall time: 2min 15s\n"
     ]
    }
   ],
   "source": [
    "%%time\n",
    "demo=song_data()"
   ]
  },
  {
   "cell_type": "code",
   "execution_count": 6,
   "metadata": {},
   "outputs": [
    {
     "data": {
      "text/html": [
       "<div>\n",
       "<style scoped>\n",
       "    .dataframe tbody tr th:only-of-type {\n",
       "        vertical-align: middle;\n",
       "    }\n",
       "\n",
       "    .dataframe tbody tr th {\n",
       "        vertical-align: top;\n",
       "    }\n",
       "\n",
       "    .dataframe thead th {\n",
       "        text-align: right;\n",
       "    }\n",
       "</style>\n",
       "<table border=\"1\" class=\"dataframe\">\n",
       "  <thead>\n",
       "    <tr style=\"text-align: right;\">\n",
       "      <th></th>\n",
       "      <th>rank</th>\n",
       "      <th>date</th>\n",
       "      <th>title</th>\n",
       "      <th>artist1</th>\n",
       "      <th>artist2</th>\n",
       "      <th>peak_pos</th>\n",
       "      <th>wks_chart</th>\n",
       "      <th>b_url</th>\n",
       "      <th>lyrics</th>\n",
       "      <th>g_url</th>\n",
       "    </tr>\n",
       "  </thead>\n",
       "  <tbody>\n",
       "    <tr>\n",
       "      <th>0</th>\n",
       "      <td>1</td>\n",
       "      <td>2022-05-21</td>\n",
       "      <td>First Class</td>\n",
       "      <td>Jack Harlow</td>\n",
       "      <td>NaN</td>\n",
       "      <td>1</td>\n",
       "      <td>5</td>\n",
       "      <td>https://www.billboard.com/charts/hot-100/</td>\n",
       "      <td>MmI been a (G), throw up the (L), sex in the (...</td>\n",
       "      <td>https://www.genius.com/Jack-Harlow-First-Class...</td>\n",
       "    </tr>\n",
       "    <tr>\n",
       "      <th>1</th>\n",
       "      <td>2</td>\n",
       "      <td>2022-05-21</td>\n",
       "      <td>As It Was</td>\n",
       "      <td>Harry Styles</td>\n",
       "      <td>NaN</td>\n",
       "      <td>1</td>\n",
       "      <td>6</td>\n",
       "      <td>https://www.billboard.com/charts/hot-100/</td>\n",
       "      <td>Come on, Harry, we wanna say goodnight to youH...</td>\n",
       "      <td>https://www.genius.com/Harry-Styles-As-It-Was-...</td>\n",
       "    </tr>\n",
       "    <tr>\n",
       "      <th>2</th>\n",
       "      <td>3</td>\n",
       "      <td>2022-05-21</td>\n",
       "      <td>Wait For U</td>\n",
       "      <td>Future</td>\n",
       "      <td>[Drake, Tems]</td>\n",
       "      <td>1</td>\n",
       "      <td>2</td>\n",
       "      <td>https://www.billboard.com/charts/hot-100/</td>\n",
       "      <td>I will wait for you, for youEarly in the morni...</td>\n",
       "      <td>https://www.genius.com/Future-Wait-For-U-lyrics</td>\n",
       "    </tr>\n",
       "    <tr>\n",
       "      <th>3</th>\n",
       "      <td>4</td>\n",
       "      <td>2022-05-21</td>\n",
       "      <td>Moscow Mule</td>\n",
       "      <td>Bad Bunny</td>\n",
       "      <td>NaN</td>\n",
       "      <td>4</td>\n",
       "      <td>1</td>\n",
       "      <td>https://www.billboard.com/charts/hot-100/</td>\n",
       "      <td>Si yo no te escribo, tú no me escribe', eySi t...</td>\n",
       "      <td>https://www.genius.com/Bad-Bunny-Moscow-Mule-l...</td>\n",
       "    </tr>\n",
       "    <tr>\n",
       "      <th>4</th>\n",
       "      <td>5</td>\n",
       "      <td>2022-05-21</td>\n",
       "      <td>Titi Me Pregunto</td>\n",
       "      <td>Bad Bunny</td>\n",
       "      <td>NaN</td>\n",
       "      <td>5</td>\n",
       "      <td>1</td>\n",
       "      <td>https://www.billboard.com/charts/hot-100/</td>\n",
       "      <td>EyTití me preguntó si tengo mucha' novia', muc...</td>\n",
       "      <td>https://www.genius.com/Bad-Bunny-Titi-Me-Pregu...</td>\n",
       "    </tr>\n",
       "    <tr>\n",
       "      <th>...</th>\n",
       "      <td>...</td>\n",
       "      <td>...</td>\n",
       "      <td>...</td>\n",
       "      <td>...</td>\n",
       "      <td>...</td>\n",
       "      <td>...</td>\n",
       "      <td>...</td>\n",
       "      <td>...</td>\n",
       "      <td>...</td>\n",
       "      <td>...</td>\n",
       "    </tr>\n",
       "    <tr>\n",
       "      <th>89</th>\n",
       "      <td>96</td>\n",
       "      <td>2022-05-21</td>\n",
       "      <td>Frozen</td>\n",
       "      <td>Lil Baby</td>\n",
       "      <td>NaN</td>\n",
       "      <td>54</td>\n",
       "      <td>2</td>\n",
       "      <td>https://www.billboard.com/charts/hot-100/</td>\n",
       "      <td>Can someone come unthaw my heart? I think it's...</td>\n",
       "      <td>https://www.genius.com/Lil-Baby-Frozen-lyrics</td>\n",
       "    </tr>\n",
       "    <tr>\n",
       "      <th>90</th>\n",
       "      <td>97</td>\n",
       "      <td>2022-05-21</td>\n",
       "      <td>Young Harleezy</td>\n",
       "      <td>Jack Harlow</td>\n",
       "      <td>NaN</td>\n",
       "      <td>97</td>\n",
       "      <td>1</td>\n",
       "      <td>https://www.billboard.com/charts/hot-100/</td>\n",
       "      <td>Young Harleezy, y'all grew up shooting RPG'sI ...</td>\n",
       "      <td>https://www.genius.com/Jack-Harlow-Young-Harle...</td>\n",
       "    </tr>\n",
       "    <tr>\n",
       "      <th>91</th>\n",
       "      <td>98</td>\n",
       "      <td>2022-05-21</td>\n",
       "      <td>23</td>\n",
       "      <td>Sam Hunt</td>\n",
       "      <td>NaN</td>\n",
       "      <td>50</td>\n",
       "      <td>20</td>\n",
       "      <td>https://www.billboard.com/charts/hot-100/</td>\n",
       "      <td>La-la-la-la-laYou can marry an architectBuild ...</td>\n",
       "      <td>https://www.genius.com/Sam-Hunt-23-lyrics</td>\n",
       "    </tr>\n",
       "    <tr>\n",
       "      <th>92</th>\n",
       "      <td>99</td>\n",
       "      <td>2022-05-21</td>\n",
       "      <td>Poison</td>\n",
       "      <td>Jack Harlow</td>\n",
       "      <td>[Lil Wayne]</td>\n",
       "      <td>99</td>\n",
       "      <td>1</td>\n",
       "      <td>https://www.billboard.com/charts/hot-100/</td>\n",
       "      <td>Can you decide?Can you decide?OhNew musicListe...</td>\n",
       "      <td>https://www.genius.com/Jack-Harlow-Poison-lyrics</td>\n",
       "    </tr>\n",
       "    <tr>\n",
       "      <th>93</th>\n",
       "      <td>100</td>\n",
       "      <td>2022-05-21</td>\n",
       "      <td>Honest</td>\n",
       "      <td>Justin Bieber</td>\n",
       "      <td>[Don Toliver]</td>\n",
       "      <td>44</td>\n",
       "      <td>2</td>\n",
       "      <td>https://www.billboard.com/charts/hot-100/</td>\n",
       "      <td>Honest (Honest)You're modest, I like it (I lik...</td>\n",
       "      <td>https://www.genius.com/Justin-Bieber-Honest-ly...</td>\n",
       "    </tr>\n",
       "  </tbody>\n",
       "</table>\n",
       "<p>94 rows × 10 columns</p>\n",
       "</div>"
      ],
      "text/plain": [
       "    rank       date             title        artist1        artist2 peak_pos  \\\n",
       "0      1 2022-05-21       First Class    Jack Harlow            NaN        1   \n",
       "1      2 2022-05-21         As It Was   Harry Styles            NaN        1   \n",
       "2      3 2022-05-21        Wait For U         Future  [Drake, Tems]        1   \n",
       "3      4 2022-05-21       Moscow Mule      Bad Bunny            NaN        4   \n",
       "4      5 2022-05-21  Titi Me Pregunto      Bad Bunny            NaN        5   \n",
       "..   ...        ...               ...            ...            ...      ...   \n",
       "89    96 2022-05-21            Frozen       Lil Baby            NaN       54   \n",
       "90    97 2022-05-21    Young Harleezy    Jack Harlow            NaN       97   \n",
       "91    98 2022-05-21                23       Sam Hunt            NaN       50   \n",
       "92    99 2022-05-21            Poison    Jack Harlow    [Lil Wayne]       99   \n",
       "93   100 2022-05-21            Honest  Justin Bieber  [Don Toliver]       44   \n",
       "\n",
       "   wks_chart                                      b_url  \\\n",
       "0          5  https://www.billboard.com/charts/hot-100/   \n",
       "1          6  https://www.billboard.com/charts/hot-100/   \n",
       "2          2  https://www.billboard.com/charts/hot-100/   \n",
       "3          1  https://www.billboard.com/charts/hot-100/   \n",
       "4          1  https://www.billboard.com/charts/hot-100/   \n",
       "..       ...                                        ...   \n",
       "89         2  https://www.billboard.com/charts/hot-100/   \n",
       "90         1  https://www.billboard.com/charts/hot-100/   \n",
       "91        20  https://www.billboard.com/charts/hot-100/   \n",
       "92         1  https://www.billboard.com/charts/hot-100/   \n",
       "93         2  https://www.billboard.com/charts/hot-100/   \n",
       "\n",
       "                                               lyrics  \\\n",
       "0   MmI been a (G), throw up the (L), sex in the (...   \n",
       "1   Come on, Harry, we wanna say goodnight to youH...   \n",
       "2   I will wait for you, for youEarly in the morni...   \n",
       "3   Si yo no te escribo, tú no me escribe', eySi t...   \n",
       "4   EyTití me preguntó si tengo mucha' novia', muc...   \n",
       "..                                                ...   \n",
       "89  Can someone come unthaw my heart? I think it's...   \n",
       "90  Young Harleezy, y'all grew up shooting RPG'sI ...   \n",
       "91  La-la-la-la-laYou can marry an architectBuild ...   \n",
       "92  Can you decide?Can you decide?OhNew musicListe...   \n",
       "93  Honest (Honest)You're modest, I like it (I lik...   \n",
       "\n",
       "                                                g_url  \n",
       "0   https://www.genius.com/Jack-Harlow-First-Class...  \n",
       "1   https://www.genius.com/Harry-Styles-As-It-Was-...  \n",
       "2     https://www.genius.com/Future-Wait-For-U-lyrics  \n",
       "3   https://www.genius.com/Bad-Bunny-Moscow-Mule-l...  \n",
       "4   https://www.genius.com/Bad-Bunny-Titi-Me-Pregu...  \n",
       "..                                                ...  \n",
       "89      https://www.genius.com/Lil-Baby-Frozen-lyrics  \n",
       "90  https://www.genius.com/Jack-Harlow-Young-Harle...  \n",
       "91          https://www.genius.com/Sam-Hunt-23-lyrics  \n",
       "92   https://www.genius.com/Jack-Harlow-Poison-lyrics  \n",
       "93  https://www.genius.com/Justin-Bieber-Honest-ly...  \n",
       "\n",
       "[94 rows x 10 columns]"
      ]
     },
     "execution_count": 6,
     "metadata": {},
     "output_type": "execute_result"
    }
   ],
   "source": [
    "demo"
   ]
  },
  {
   "cell_type": "markdown",
   "metadata": {},
   "source": [
    "In 21 separate notebooks, we used pandas's date_range() function to generate a list of dates (all the Saturdays in a year, since that's what Billboard uses) to pass through the function we created. We then concatenate all these dataframes to get a dataframe for each year. We then saved these dataframes to csv files. The following code blocks are copied and pasted from the notebook used to generate the data for the year 2000."
   ]
  },
  {
   "cell_type": "code",
   "execution_count": null,
   "metadata": {},
   "outputs": [],
   "source": [
    "## DON'T RUN ##\n",
    "\n",
    "dates=pd.date_range(start='2000-01-01',end='2000-12-31',freq='W-SAT') # the charts are every Saturday\n",
    "print(len(dates))\n",
    "print(dates)"
   ]
  },
  {
   "cell_type": "code",
   "execution_count": null,
   "metadata": {},
   "outputs": [],
   "source": [
    "## DON'T RUN ##\n",
    "Dates=[date.strftime('%Y-%m-%d') for date in dates]"
   ]
  },
  {
   "cell_type": "code",
   "execution_count": null,
   "metadata": {},
   "outputs": [],
   "source": [
    "## DON'T RUN ##\n",
    "\n",
    "songs=[]\n",
    "for date in Dates:\n",
    "    songs.append(song_data(date))\n",
    "    #print(date) \n",
    "\n",
    "songs2000 = pd.concat(songs)\n",
    "songs2000.to_csv('songs2000.csv')"
   ]
  },
  {
   "cell_type": "markdown",
   "metadata": {
    "tags": []
   },
   "source": [
    "### II. Metadata + Dataset Information "
   ]
  },
  {
   "cell_type": "markdown",
   "metadata": {},
   "source": [
    "link to dataset: "
   ]
  },
  {
   "cell_type": "markdown",
   "metadata": {},
   "source": [
    "- `rank` rank of the song on the chart for that date\n",
    "- `date` date of the week for the chart\n",
    "- `title` title of the song\n",
    "- `artist1` artist of the song\n",
    "- `artist2` a list of of the rest of the featured/additional artists on the song\n",
    "- `peak_pos` peak position of the chart (up until the observed date)\n",
    "- `wks_chart` number of weeks the song has been on the chart (up until the observed date)\n",
    "- `b_url` link to Billboard chart\n",
    "- `lyrics` **lyrics  of the song (a string), the text data we will be working with**\n",
    "- `g_url` link to Genius lyrics website"
   ]
  },
  {
   "cell_type": "code",
   "execution_count": 242,
   "metadata": {},
   "outputs": [],
   "source": [
    "songs=pd.read_csv('songs.csv')\n",
    "songs=songs.iloc[:,1:]"
   ]
  },
  {
   "cell_type": "code",
   "execution_count": 243,
   "metadata": {},
   "outputs": [
    {
     "data": {
      "text/html": [
       "<div>\n",
       "<style scoped>\n",
       "    .dataframe tbody tr th:only-of-type {\n",
       "        vertical-align: middle;\n",
       "    }\n",
       "\n",
       "    .dataframe tbody tr th {\n",
       "        vertical-align: top;\n",
       "    }\n",
       "\n",
       "    .dataframe thead th {\n",
       "        text-align: right;\n",
       "    }\n",
       "</style>\n",
       "<table border=\"1\" class=\"dataframe\">\n",
       "  <thead>\n",
       "    <tr style=\"text-align: right;\">\n",
       "      <th></th>\n",
       "      <th>rank</th>\n",
       "      <th>date</th>\n",
       "      <th>title</th>\n",
       "      <th>artist1</th>\n",
       "      <th>artist2</th>\n",
       "      <th>peak_pos</th>\n",
       "      <th>wks_chart</th>\n",
       "      <th>b_url</th>\n",
       "      <th>g_url</th>\n",
       "      <th>lyrics</th>\n",
       "    </tr>\n",
       "  </thead>\n",
       "  <tbody>\n",
       "    <tr>\n",
       "      <th>0</th>\n",
       "      <td>1</td>\n",
       "      <td>2000-01-01</td>\n",
       "      <td>Smooth</td>\n",
       "      <td>Santana</td>\n",
       "      <td>['Rob Thomas']</td>\n",
       "      <td>1</td>\n",
       "      <td>23</td>\n",
       "      <td>https://www.billboard.com/charts/hot-100/2000-...</td>\n",
       "      <td>https://www.genius.com/Santana-Smooth-lyrics</td>\n",
       "      <td>Man, it's a hot oneLike seven inches from the ...</td>\n",
       "    </tr>\n",
       "    <tr>\n",
       "      <th>1</th>\n",
       "      <td>2</td>\n",
       "      <td>2000-01-01</td>\n",
       "      <td>Back At One</td>\n",
       "      <td>Brian McKnight</td>\n",
       "      <td>NaN</td>\n",
       "      <td>2</td>\n",
       "      <td>19</td>\n",
       "      <td>https://www.billboard.com/charts/hot-100/2000-...</td>\n",
       "      <td>https://www.genius.com/Brian-McKnight-Back-At-...</td>\n",
       "      <td>It's undeniableThat we should be togetherIt's ...</td>\n",
       "    </tr>\n",
       "    <tr>\n",
       "      <th>2</th>\n",
       "      <td>3</td>\n",
       "      <td>2000-01-01</td>\n",
       "      <td>I Wanna Love You Forever</td>\n",
       "      <td>Jessica Simpson</td>\n",
       "      <td>NaN</td>\n",
       "      <td>3</td>\n",
       "      <td>12</td>\n",
       "      <td>https://www.billboard.com/charts/hot-100/2000-...</td>\n",
       "      <td>https://www.genius.com/Jessica-Simpson-I-Wanna...</td>\n",
       "      <td>Ooh, ooh, mmmYou set my soul at easeChased dar...</td>\n",
       "    </tr>\n",
       "    <tr>\n",
       "      <th>3</th>\n",
       "      <td>4</td>\n",
       "      <td>2000-01-01</td>\n",
       "      <td>My Love Is Your Love</td>\n",
       "      <td>Whitney Houston</td>\n",
       "      <td>NaN</td>\n",
       "      <td>4</td>\n",
       "      <td>18</td>\n",
       "      <td>https://www.billboard.com/charts/hot-100/2000-...</td>\n",
       "      <td>https://www.genius.com/Whitney-Houston-My-Love...</td>\n",
       "      <td>Clap your hands, y'allIt's alright (Turn me up...</td>\n",
       "    </tr>\n",
       "    <tr>\n",
       "      <th>4</th>\n",
       "      <td>5</td>\n",
       "      <td>2000-01-01</td>\n",
       "      <td>I Knew I Loved You</td>\n",
       "      <td>Savage Garden</td>\n",
       "      <td>NaN</td>\n",
       "      <td>4</td>\n",
       "      <td>11</td>\n",
       "      <td>https://www.billboard.com/charts/hot-100/2000-...</td>\n",
       "      <td>https://www.genius.com/Savage-Garden-I-Knew-I-...</td>\n",
       "      <td>MmmOoh, ohMaybe it's intuitionBut some things ...</td>\n",
       "    </tr>\n",
       "    <tr>\n",
       "      <th>...</th>\n",
       "      <td>...</td>\n",
       "      <td>...</td>\n",
       "      <td>...</td>\n",
       "      <td>...</td>\n",
       "      <td>...</td>\n",
       "      <td>...</td>\n",
       "      <td>...</td>\n",
       "      <td>...</td>\n",
       "      <td>...</td>\n",
       "      <td>...</td>\n",
       "    </tr>\n",
       "    <tr>\n",
       "      <th>105939</th>\n",
       "      <td>95</td>\n",
       "      <td>2021-12-25</td>\n",
       "      <td>Freedom Was A Highway</td>\n",
       "      <td>Jimmie Allen</td>\n",
       "      <td>['Brad Paisley']</td>\n",
       "      <td>76</td>\n",
       "      <td>10</td>\n",
       "      <td>https://www.billboard.com/charts/hot-100/2021-...</td>\n",
       "      <td>https://www.genius.com/Jimmie-Allen-Freedom-Wa...</td>\n",
       "      <td>(Oh-oh, oh-oh, woo)(Oh-oh, oh-oh)Sunset throug...</td>\n",
       "    </tr>\n",
       "    <tr>\n",
       "      <th>105940</th>\n",
       "      <td>96</td>\n",
       "      <td>2021-12-25</td>\n",
       "      <td>No Love</td>\n",
       "      <td>Summer Walker</td>\n",
       "      <td>['SZA']</td>\n",
       "      <td>13</td>\n",
       "      <td>6</td>\n",
       "      <td>https://www.billboard.com/charts/hot-100/2021-...</td>\n",
       "      <td>https://www.genius.com/Summer-Walker-No-Love-l...</td>\n",
       "      <td>Oh, ooh woahOh-oh, yeahYeah, yeah, yeahIf I ha...</td>\n",
       "    </tr>\n",
       "    <tr>\n",
       "      <th>105941</th>\n",
       "      <td>97</td>\n",
       "      <td>2021-12-25</td>\n",
       "      <td>Bad Man (Smooth Criminal)</td>\n",
       "      <td>Polo G</td>\n",
       "      <td>NaN</td>\n",
       "      <td>49</td>\n",
       "      <td>5</td>\n",
       "      <td>https://www.billboard.com/charts/hot-100/2021-...</td>\n",
       "      <td>https://www.genius.com/Polo-G-Bad-Man-Smooth-C...</td>\n",
       "      <td>Lil Capalot, bitch, haSmooth criminal, Mike Ja...</td>\n",
       "    </tr>\n",
       "    <tr>\n",
       "      <th>105942</th>\n",
       "      <td>98</td>\n",
       "      <td>2021-12-25</td>\n",
       "      <td>Feel Alone</td>\n",
       "      <td>Juice WRLD</td>\n",
       "      <td>NaN</td>\n",
       "      <td>98</td>\n",
       "      <td>1</td>\n",
       "      <td>https://www.billboard.com/charts/hot-100/2021-...</td>\n",
       "      <td>https://www.genius.com/Juice-WRLD-Feel-Alone-l...</td>\n",
       "      <td>Smokin' this dope, relaxin'I ain't gon' lie, b...</td>\n",
       "    </tr>\n",
       "    <tr>\n",
       "      <th>105943</th>\n",
       "      <td>99</td>\n",
       "      <td>2021-12-25</td>\n",
       "      <td>Heart On Fire</td>\n",
       "      <td>Eric Church</td>\n",
       "      <td>NaN</td>\n",
       "      <td>89</td>\n",
       "      <td>4</td>\n",
       "      <td>https://www.billboard.com/charts/hot-100/2021-...</td>\n",
       "      <td>https://www.genius.com/Eric-Church-Heart-On-Fi...</td>\n",
       "      <td>Roosevelt Road was too rough for my old truckY...</td>\n",
       "    </tr>\n",
       "  </tbody>\n",
       "</table>\n",
       "<p>105944 rows × 10 columns</p>\n",
       "</div>"
      ],
      "text/plain": [
       "        rank        date                      title          artist1  \\\n",
       "0          1  2000-01-01                     Smooth          Santana   \n",
       "1          2  2000-01-01                Back At One   Brian McKnight   \n",
       "2          3  2000-01-01   I Wanna Love You Forever  Jessica Simpson   \n",
       "3          4  2000-01-01       My Love Is Your Love  Whitney Houston   \n",
       "4          5  2000-01-01         I Knew I Loved You    Savage Garden   \n",
       "...      ...         ...                        ...              ...   \n",
       "105939    95  2021-12-25      Freedom Was A Highway     Jimmie Allen   \n",
       "105940    96  2021-12-25                    No Love    Summer Walker   \n",
       "105941    97  2021-12-25  Bad Man (Smooth Criminal)           Polo G   \n",
       "105942    98  2021-12-25                 Feel Alone       Juice WRLD   \n",
       "105943    99  2021-12-25              Heart On Fire      Eric Church   \n",
       "\n",
       "                 artist2  peak_pos  wks_chart  \\\n",
       "0         ['Rob Thomas']         1         23   \n",
       "1                    NaN         2         19   \n",
       "2                    NaN         3         12   \n",
       "3                    NaN         4         18   \n",
       "4                    NaN         4         11   \n",
       "...                  ...       ...        ...   \n",
       "105939  ['Brad Paisley']        76         10   \n",
       "105940           ['SZA']        13          6   \n",
       "105941               NaN        49          5   \n",
       "105942               NaN        98          1   \n",
       "105943               NaN        89          4   \n",
       "\n",
       "                                                    b_url  \\\n",
       "0       https://www.billboard.com/charts/hot-100/2000-...   \n",
       "1       https://www.billboard.com/charts/hot-100/2000-...   \n",
       "2       https://www.billboard.com/charts/hot-100/2000-...   \n",
       "3       https://www.billboard.com/charts/hot-100/2000-...   \n",
       "4       https://www.billboard.com/charts/hot-100/2000-...   \n",
       "...                                                   ...   \n",
       "105939  https://www.billboard.com/charts/hot-100/2021-...   \n",
       "105940  https://www.billboard.com/charts/hot-100/2021-...   \n",
       "105941  https://www.billboard.com/charts/hot-100/2021-...   \n",
       "105942  https://www.billboard.com/charts/hot-100/2021-...   \n",
       "105943  https://www.billboard.com/charts/hot-100/2021-...   \n",
       "\n",
       "                                                    g_url  \\\n",
       "0            https://www.genius.com/Santana-Smooth-lyrics   \n",
       "1       https://www.genius.com/Brian-McKnight-Back-At-...   \n",
       "2       https://www.genius.com/Jessica-Simpson-I-Wanna...   \n",
       "3       https://www.genius.com/Whitney-Houston-My-Love...   \n",
       "4       https://www.genius.com/Savage-Garden-I-Knew-I-...   \n",
       "...                                                   ...   \n",
       "105939  https://www.genius.com/Jimmie-Allen-Freedom-Wa...   \n",
       "105940  https://www.genius.com/Summer-Walker-No-Love-l...   \n",
       "105941  https://www.genius.com/Polo-G-Bad-Man-Smooth-C...   \n",
       "105942  https://www.genius.com/Juice-WRLD-Feel-Alone-l...   \n",
       "105943  https://www.genius.com/Eric-Church-Heart-On-Fi...   \n",
       "\n",
       "                                                   lyrics  \n",
       "0       Man, it's a hot oneLike seven inches from the ...  \n",
       "1       It's undeniableThat we should be togetherIt's ...  \n",
       "2       Ooh, ooh, mmmYou set my soul at easeChased dar...  \n",
       "3       Clap your hands, y'allIt's alright (Turn me up...  \n",
       "4       MmmOoh, ohMaybe it's intuitionBut some things ...  \n",
       "...                                                   ...  \n",
       "105939  (Oh-oh, oh-oh, woo)(Oh-oh, oh-oh)Sunset throug...  \n",
       "105940  Oh, ooh woahOh-oh, yeahYeah, yeah, yeahIf I ha...  \n",
       "105941  Lil Capalot, bitch, haSmooth criminal, Mike Ja...  \n",
       "105942  Smokin' this dope, relaxin'I ain't gon' lie, b...  \n",
       "105943  Roosevelt Road was too rough for my old truckY...  \n",
       "\n",
       "[105944 rows x 10 columns]"
      ]
     },
     "execution_count": 243,
     "metadata": {},
     "output_type": "execute_result"
    }
   ],
   "source": [
    "songs"
   ]
  },
  {
   "cell_type": "code",
   "execution_count": 245,
   "metadata": {},
   "outputs": [
    {
     "name": "stdout",
     "output_type": "stream",
     "text": [
      "Number of unique songs on the charts in 2000-2021: 8468\n"
     ]
    }
   ],
   "source": [
    "print('Number of unique songs on the charts in 2000-2021:', len(songs.lyrics.unique()))"
   ]
  },
  {
   "cell_type": "code",
   "execution_count": 246,
   "metadata": {},
   "outputs": [
    {
     "name": "stdout",
     "output_type": "stream",
     "text": [
      "Fraction of unique songs in 2000-2021: 0.07165106093785396\n"
     ]
    }
   ],
   "source": [
    "print('Fraction of unique songs in 2000-2021:',len(songs.title.unique())/len(songs))"
   ]
  },
  {
   "cell_type": "code",
   "execution_count": 249,
   "metadata": {},
   "outputs": [
    {
     "data": {
      "text/plain": [
       "https://www.genius.com/The-Weeknd-Blinding-Lights-lyrics             90\n",
       "https://www.genius.com/Imagine-Dragons-Radioactive-lyrics            87\n",
       "https://www.genius.com/AWOLNATION-Sail-lyrics                        79\n",
       "https://www.genius.com/Jason-Mraz-Im-Yours-lyrics                    75\n",
       "https://www.genius.com/OneRepublic-Counting-Stars-lyrics             68\n",
       "                                                                     ..\n",
       "https://www.genius.com/Meek-Mill-Heavy-Heart-lyrics                   1\n",
       "https://www.genius.com/Kesha-Learn-To-Let-Go-lyrics                   1\n",
       "https://www.genius.com/Camila-Cabello-OMG-lyrics                      1\n",
       "https://www.genius.com/Sofia-Carson-Chillin-Like-A-Villain-lyrics     1\n",
       "https://www.genius.com/Juice-WRLD-Feel-Alone-lyrics                   1\n",
       "Name: g_url, Length: 8468, dtype: int64"
      ]
     },
     "execution_count": 249,
     "metadata": {},
     "output_type": "execute_result"
    }
   ],
   "source": [
    "songs.g_url.value_counts()"
   ]
  },
  {
   "cell_type": "code",
   "execution_count": null,
   "metadata": {},
   "outputs": [],
   "source": [
    "#groupby, get last observation to get weeks on the chart"
   ]
  },
  {
   "cell_type": "code",
   "execution_count": 8,
   "metadata": {},
   "outputs": [],
   "source": [
    "df=pd.read_csv('songs1960_1963.csv')\n",
    "df=df.iloc[:,1:]"
   ]
  },
  {
   "cell_type": "code",
   "execution_count": 16,
   "metadata": {},
   "outputs": [
    {
     "data": {
      "text/html": [
       "<div>\n",
       "<style scoped>\n",
       "    .dataframe tbody tr th:only-of-type {\n",
       "        vertical-align: middle;\n",
       "    }\n",
       "\n",
       "    .dataframe tbody tr th {\n",
       "        vertical-align: top;\n",
       "    }\n",
       "\n",
       "    .dataframe thead th {\n",
       "        text-align: right;\n",
       "    }\n",
       "</style>\n",
       "<table border=\"1\" class=\"dataframe\">\n",
       "  <thead>\n",
       "    <tr style=\"text-align: right;\">\n",
       "      <th></th>\n",
       "      <th>rank</th>\n",
       "      <th>date</th>\n",
       "      <th>title</th>\n",
       "      <th>artist1</th>\n",
       "      <th>artist2</th>\n",
       "      <th>peak_pos</th>\n",
       "      <th>wks_chart</th>\n",
       "      <th>b_url</th>\n",
       "      <th>g_url</th>\n",
       "      <th>lyrics</th>\n",
       "    </tr>\n",
       "  </thead>\n",
       "  <tbody>\n",
       "    <tr>\n",
       "      <th>0</th>\n",
       "      <td>1</td>\n",
       "      <td>1960-01-04</td>\n",
       "      <td>El Paso</td>\n",
       "      <td>Marty Robbins</td>\n",
       "      <td>NaN</td>\n",
       "      <td>1</td>\n",
       "      <td>9</td>\n",
       "      <td>https://www.billboard.com/charts/hot-100/1960-...</td>\n",
       "      <td>https://www.genius.com/Marty-Robbins-El-Paso-l...</td>\n",
       "      <td>Out in the West Texas town of El PasoI fell in...</td>\n",
       "    </tr>\n",
       "    <tr>\n",
       "      <th>1</th>\n",
       "      <td>2</td>\n",
       "      <td>1960-01-04</td>\n",
       "      <td>Why</td>\n",
       "      <td>Frankie Avalon</td>\n",
       "      <td>NaN</td>\n",
       "      <td>1</td>\n",
       "      <td>7</td>\n",
       "      <td>https://www.billboard.com/charts/hot-100/1960-...</td>\n",
       "      <td>https://www.genius.com/Frankie-Avalon-Why-lyrics</td>\n",
       "      <td>I'll never let you goWhy? Because I love youI'...</td>\n",
       "    </tr>\n",
       "    <tr>\n",
       "      <th>2</th>\n",
       "      <td>4</td>\n",
       "      <td>1960-01-04</td>\n",
       "      <td>Running Bear</td>\n",
       "      <td>Johnny Preston</td>\n",
       "      <td>NaN</td>\n",
       "      <td>4</td>\n",
       "      <td>12</td>\n",
       "      <td>https://www.billboard.com/charts/hot-100/1960-...</td>\n",
       "      <td>https://www.genius.com/Johnny-Preston-Running-...</td>\n",
       "      <td>On the bank of the riverStood Running Bear, yo...</td>\n",
       "    </tr>\n",
       "    <tr>\n",
       "      <th>3</th>\n",
       "      <td>6</td>\n",
       "      <td>1960-01-04</td>\n",
       "      <td>Heartaches By The Number</td>\n",
       "      <td>Guy Mitchell</td>\n",
       "      <td>NaN</td>\n",
       "      <td>1</td>\n",
       "      <td>14</td>\n",
       "      <td>https://www.billboard.com/charts/hot-100/1960-...</td>\n",
       "      <td>https://www.genius.com/Guy-Mitchell-Heartaches...</td>\n",
       "      <td>Heartaches by the number, troubles by the scor...</td>\n",
       "    </tr>\n",
       "    <tr>\n",
       "      <th>4</th>\n",
       "      <td>7</td>\n",
       "      <td>1960-01-04</td>\n",
       "      <td>It's Time To Cry</td>\n",
       "      <td>Paul Anka</td>\n",
       "      <td>NaN</td>\n",
       "      <td>4</td>\n",
       "      <td>7</td>\n",
       "      <td>https://www.billboard.com/charts/hot-100/1960-...</td>\n",
       "      <td>https://www.genius.com/Paul-Anka-Its-Time-To-C...</td>\n",
       "      <td>When somebody leaves you, that's the time to c...</td>\n",
       "    </tr>\n",
       "    <tr>\n",
       "      <th>...</th>\n",
       "      <td>...</td>\n",
       "      <td>...</td>\n",
       "      <td>...</td>\n",
       "      <td>...</td>\n",
       "      <td>...</td>\n",
       "      <td>...</td>\n",
       "      <td>...</td>\n",
       "      <td>...</td>\n",
       "      <td>...</td>\n",
       "      <td>...</td>\n",
       "    </tr>\n",
       "    <tr>\n",
       "      <th>13246</th>\n",
       "      <td>88</td>\n",
       "      <td>1963-12-28</td>\n",
       "      <td>Cold Cold Winter</td>\n",
       "      <td>The Pixies Three</td>\n",
       "      <td>NaN</td>\n",
       "      <td>88</td>\n",
       "      <td>3</td>\n",
       "      <td>https://www.billboard.com/charts/hot-100/1963-...</td>\n",
       "      <td>https://www.genius.com/The-Pixies-Three-Cold-C...</td>\n",
       "      <td>When we had to partThat's when I knewBaby, it’...</td>\n",
       "    </tr>\n",
       "    <tr>\n",
       "      <th>13247</th>\n",
       "      <td>89</td>\n",
       "      <td>1963-12-28</td>\n",
       "      <td>Hootenanny Saturday Night</td>\n",
       "      <td>The Brothers Four</td>\n",
       "      <td>NaN</td>\n",
       "      <td>89</td>\n",
       "      <td>3</td>\n",
       "      <td>https://www.billboard.com/charts/hot-100/1963-...</td>\n",
       "      <td>https://www.genius.com/The-Brothers-Four-Hoote...</td>\n",
       "      <td>We'll have a hootenannyHootenanny Saturday nig...</td>\n",
       "    </tr>\n",
       "    <tr>\n",
       "      <th>13248</th>\n",
       "      <td>91</td>\n",
       "      <td>1963-12-28</td>\n",
       "      <td>The Shelter Of Your Arms</td>\n",
       "      <td>Sammy Davis Jr.</td>\n",
       "      <td>NaN</td>\n",
       "      <td>91</td>\n",
       "      <td>4</td>\n",
       "      <td>https://www.billboard.com/charts/hot-100/1963-...</td>\n",
       "      <td>https://www.genius.com/Sammy-Davis-Jr-The-Shel...</td>\n",
       "      <td>In this cold worldNo matter where I goThe clou...</td>\n",
       "    </tr>\n",
       "    <tr>\n",
       "      <th>13249</th>\n",
       "      <td>94</td>\n",
       "      <td>1963-12-28</td>\n",
       "      <td>Harlem Shuffle</td>\n",
       "      <td>Bob And Earl</td>\n",
       "      <td>NaN</td>\n",
       "      <td>94</td>\n",
       "      <td>2</td>\n",
       "      <td>https://www.billboard.com/charts/hot-100/1963-...</td>\n",
       "      <td>https://www.genius.com/Bob-And-Earl-Harlem-Shu...</td>\n",
       "      <td>You move it to the leftYeah, then you go for y...</td>\n",
       "    </tr>\n",
       "    <tr>\n",
       "      <th>13250</th>\n",
       "      <td>96</td>\n",
       "      <td>1963-12-28</td>\n",
       "      <td>Snap Your Fingers</td>\n",
       "      <td>Barbara Lewis</td>\n",
       "      <td>NaN</td>\n",
       "      <td>96</td>\n",
       "      <td>1</td>\n",
       "      <td>https://www.billboard.com/charts/hot-100/1963-...</td>\n",
       "      <td>https://www.genius.com/Barbara-Lewis-Snap-Your...</td>\n",
       "      <td>(Snap your fingers)And I'll come running(Back ...</td>\n",
       "    </tr>\n",
       "  </tbody>\n",
       "</table>\n",
       "<p>13251 rows × 10 columns</p>\n",
       "</div>"
      ],
      "text/plain": [
       "       rank        date                      title            artist1 artist2  \\\n",
       "0         1  1960-01-04                    El Paso      Marty Robbins     NaN   \n",
       "1         2  1960-01-04                        Why     Frankie Avalon     NaN   \n",
       "2         4  1960-01-04               Running Bear     Johnny Preston     NaN   \n",
       "3         6  1960-01-04   Heartaches By The Number       Guy Mitchell     NaN   \n",
       "4         7  1960-01-04           It's Time To Cry          Paul Anka     NaN   \n",
       "...     ...         ...                        ...                ...     ...   \n",
       "13246    88  1963-12-28           Cold Cold Winter   The Pixies Three     NaN   \n",
       "13247    89  1963-12-28  Hootenanny Saturday Night  The Brothers Four     NaN   \n",
       "13248    91  1963-12-28   The Shelter Of Your Arms    Sammy Davis Jr.     NaN   \n",
       "13249    94  1963-12-28             Harlem Shuffle       Bob And Earl     NaN   \n",
       "13250    96  1963-12-28          Snap Your Fingers      Barbara Lewis     NaN   \n",
       "\n",
       "       peak_pos  wks_chart                                              b_url  \\\n",
       "0             1          9  https://www.billboard.com/charts/hot-100/1960-...   \n",
       "1             1          7  https://www.billboard.com/charts/hot-100/1960-...   \n",
       "2             4         12  https://www.billboard.com/charts/hot-100/1960-...   \n",
       "3             1         14  https://www.billboard.com/charts/hot-100/1960-...   \n",
       "4             4          7  https://www.billboard.com/charts/hot-100/1960-...   \n",
       "...         ...        ...                                                ...   \n",
       "13246        88          3  https://www.billboard.com/charts/hot-100/1963-...   \n",
       "13247        89          3  https://www.billboard.com/charts/hot-100/1963-...   \n",
       "13248        91          4  https://www.billboard.com/charts/hot-100/1963-...   \n",
       "13249        94          2  https://www.billboard.com/charts/hot-100/1963-...   \n",
       "13250        96          1  https://www.billboard.com/charts/hot-100/1963-...   \n",
       "\n",
       "                                                   g_url  \\\n",
       "0      https://www.genius.com/Marty-Robbins-El-Paso-l...   \n",
       "1       https://www.genius.com/Frankie-Avalon-Why-lyrics   \n",
       "2      https://www.genius.com/Johnny-Preston-Running-...   \n",
       "3      https://www.genius.com/Guy-Mitchell-Heartaches...   \n",
       "4      https://www.genius.com/Paul-Anka-Its-Time-To-C...   \n",
       "...                                                  ...   \n",
       "13246  https://www.genius.com/The-Pixies-Three-Cold-C...   \n",
       "13247  https://www.genius.com/The-Brothers-Four-Hoote...   \n",
       "13248  https://www.genius.com/Sammy-Davis-Jr-The-Shel...   \n",
       "13249  https://www.genius.com/Bob-And-Earl-Harlem-Shu...   \n",
       "13250  https://www.genius.com/Barbara-Lewis-Snap-Your...   \n",
       "\n",
       "                                                  lyrics  \n",
       "0      Out in the West Texas town of El PasoI fell in...  \n",
       "1      I'll never let you goWhy? Because I love youI'...  \n",
       "2      On the bank of the riverStood Running Bear, yo...  \n",
       "3      Heartaches by the number, troubles by the scor...  \n",
       "4      When somebody leaves you, that's the time to c...  \n",
       "...                                                  ...  \n",
       "13246  When we had to partThat's when I knewBaby, it’...  \n",
       "13247  We'll have a hootenannyHootenanny Saturday nig...  \n",
       "13248  In this cold worldNo matter where I goThe clou...  \n",
       "13249  You move it to the leftYeah, then you go for y...  \n",
       "13250  (Snap your fingers)And I'll come running(Back ...  \n",
       "\n",
       "[13251 rows x 10 columns]"
      ]
     },
     "execution_count": 16,
     "metadata": {},
     "output_type": "execute_result"
    }
   ],
   "source": [
    "df"
   ]
  },
  {
   "cell_type": "code",
   "execution_count": 9,
   "metadata": {},
   "outputs": [],
   "source": [
    "null=df[df['lyrics'].isnull()]"
   ]
  },
  {
   "cell_type": "code",
   "execution_count": 10,
   "metadata": {},
   "outputs": [
    {
     "data": {
      "text/html": [
       "<div>\n",
       "<style scoped>\n",
       "    .dataframe tbody tr th:only-of-type {\n",
       "        vertical-align: middle;\n",
       "    }\n",
       "\n",
       "    .dataframe tbody tr th {\n",
       "        vertical-align: top;\n",
       "    }\n",
       "\n",
       "    .dataframe thead th {\n",
       "        text-align: right;\n",
       "    }\n",
       "</style>\n",
       "<table border=\"1\" class=\"dataframe\">\n",
       "  <thead>\n",
       "    <tr style=\"text-align: right;\">\n",
       "      <th></th>\n",
       "      <th>rank</th>\n",
       "      <th>date</th>\n",
       "      <th>title</th>\n",
       "      <th>artist1</th>\n",
       "      <th>artist2</th>\n",
       "      <th>peak_pos</th>\n",
       "      <th>wks_chart</th>\n",
       "      <th>b_url</th>\n",
       "      <th>g_url</th>\n",
       "      <th>lyrics</th>\n",
       "    </tr>\n",
       "  </thead>\n",
       "  <tbody>\n",
       "    <tr>\n",
       "      <th>36</th>\n",
       "      <td>52</td>\n",
       "      <td>1960-01-04</td>\n",
       "      <td>The Clouds</td>\n",
       "      <td>The Spacemen</td>\n",
       "      <td>NaN</td>\n",
       "      <td>41</td>\n",
       "      <td>12</td>\n",
       "      <td>https://www.billboard.com/charts/hot-100/1960-...</td>\n",
       "      <td>https://www.genius.com/The-Spacemen-The-Clouds...</td>\n",
       "      <td>NaN</td>\n",
       "    </tr>\n",
       "    <tr>\n",
       "      <th>58</th>\n",
       "      <td>88</td>\n",
       "      <td>1960-01-04</td>\n",
       "      <td>Harlem Nocturne</td>\n",
       "      <td>The Viscounts</td>\n",
       "      <td>NaN</td>\n",
       "      <td>88</td>\n",
       "      <td>2</td>\n",
       "      <td>https://www.billboard.com/charts/hot-100/1960-...</td>\n",
       "      <td>https://www.genius.com/The-Viscounts-Harlem-No...</td>\n",
       "      <td>NaN</td>\n",
       "    </tr>\n",
       "    <tr>\n",
       "      <th>98</th>\n",
       "      <td>50</td>\n",
       "      <td>1960-01-11</td>\n",
       "      <td>The Clouds</td>\n",
       "      <td>The Spacemen</td>\n",
       "      <td>NaN</td>\n",
       "      <td>41</td>\n",
       "      <td>13</td>\n",
       "      <td>https://www.billboard.com/charts/hot-100/1960-...</td>\n",
       "      <td>https://www.genius.com/The-Spacemen-The-Clouds...</td>\n",
       "      <td>NaN</td>\n",
       "    </tr>\n",
       "    <tr>\n",
       "      <th>115</th>\n",
       "      <td>77</td>\n",
       "      <td>1960-01-11</td>\n",
       "      <td>Harlem Nocturne</td>\n",
       "      <td>The Viscounts</td>\n",
       "      <td>NaN</td>\n",
       "      <td>77</td>\n",
       "      <td>3</td>\n",
       "      <td>https://www.billboard.com/charts/hot-100/1960-...</td>\n",
       "      <td>https://www.genius.com/The-Viscounts-Harlem-No...</td>\n",
       "      <td>NaN</td>\n",
       "    </tr>\n",
       "    <tr>\n",
       "      <th>125</th>\n",
       "      <td>96</td>\n",
       "      <td>1960-01-11</td>\n",
       "      <td>The Theme From \"A Summer Place\"</td>\n",
       "      <td>Percy Faith And His Orchestra</td>\n",
       "      <td>NaN</td>\n",
       "      <td>96</td>\n",
       "      <td>1</td>\n",
       "      <td>https://www.billboard.com/charts/hot-100/1960-...</td>\n",
       "      <td>https://www.genius.com/Percy-Faith-And-His-Orc...</td>\n",
       "      <td>NaN</td>\n",
       "    </tr>\n",
       "    <tr>\n",
       "      <th>...</th>\n",
       "      <td>...</td>\n",
       "      <td>...</td>\n",
       "      <td>...</td>\n",
       "      <td>...</td>\n",
       "      <td>...</td>\n",
       "      <td>...</td>\n",
       "      <td>...</td>\n",
       "      <td>...</td>\n",
       "      <td>...</td>\n",
       "      <td>...</td>\n",
       "    </tr>\n",
       "    <tr>\n",
       "      <th>13110</th>\n",
       "      <td>69</td>\n",
       "      <td>1963-12-14</td>\n",
       "      <td>Out Of Limits</td>\n",
       "      <td>The Marketts</td>\n",
       "      <td>NaN</td>\n",
       "      <td>69</td>\n",
       "      <td>2</td>\n",
       "      <td>https://www.billboard.com/charts/hot-100/1963-...</td>\n",
       "      <td>https://www.genius.com/The-Marketts-Out-Of-Lim...</td>\n",
       "      <td>NaN</td>\n",
       "    </tr>\n",
       "    <tr>\n",
       "      <th>13149</th>\n",
       "      <td>32</td>\n",
       "      <td>1963-12-21</td>\n",
       "      <td>Washington Square</td>\n",
       "      <td>The Village Stompers</td>\n",
       "      <td>NaN</td>\n",
       "      <td>2</td>\n",
       "      <td>14</td>\n",
       "      <td>https://www.billboard.com/charts/hot-100/1963-...</td>\n",
       "      <td>https://www.genius.com/The-Village-Stompers-Wa...</td>\n",
       "      <td>NaN</td>\n",
       "    </tr>\n",
       "    <tr>\n",
       "      <th>13161</th>\n",
       "      <td>50</td>\n",
       "      <td>1963-12-21</td>\n",
       "      <td>Maria Elena</td>\n",
       "      <td>Los Indios Tabajaras</td>\n",
       "      <td>NaN</td>\n",
       "      <td>6</td>\n",
       "      <td>14</td>\n",
       "      <td>https://www.billboard.com/charts/hot-100/1963-...</td>\n",
       "      <td>https://www.genius.com/Los-Indios-Tabajaras-Ma...</td>\n",
       "      <td>NaN</td>\n",
       "    </tr>\n",
       "    <tr>\n",
       "      <th>13167</th>\n",
       "      <td>59</td>\n",
       "      <td>1963-12-21</td>\n",
       "      <td>Out Of Limits</td>\n",
       "      <td>The Marketts</td>\n",
       "      <td>NaN</td>\n",
       "      <td>59</td>\n",
       "      <td>3</td>\n",
       "      <td>https://www.billboard.com/charts/hot-100/1963-...</td>\n",
       "      <td>https://www.genius.com/The-Marketts-Out-Of-Lim...</td>\n",
       "      <td>NaN</td>\n",
       "    </tr>\n",
       "    <tr>\n",
       "      <th>13217</th>\n",
       "      <td>38</td>\n",
       "      <td>1963-12-28</td>\n",
       "      <td>Out Of Limits</td>\n",
       "      <td>The Marketts</td>\n",
       "      <td>NaN</td>\n",
       "      <td>38</td>\n",
       "      <td>4</td>\n",
       "      <td>https://www.billboard.com/charts/hot-100/1963-...</td>\n",
       "      <td>https://www.genius.com/The-Marketts-Out-Of-Lim...</td>\n",
       "      <td>NaN</td>\n",
       "    </tr>\n",
       "  </tbody>\n",
       "</table>\n",
       "<p>375 rows × 10 columns</p>\n",
       "</div>"
      ],
      "text/plain": [
       "       rank        date                            title  \\\n",
       "36       52  1960-01-04                       The Clouds   \n",
       "58       88  1960-01-04                  Harlem Nocturne   \n",
       "98       50  1960-01-11                       The Clouds   \n",
       "115      77  1960-01-11                  Harlem Nocturne   \n",
       "125      96  1960-01-11  The Theme From \"A Summer Place\"   \n",
       "...     ...         ...                              ...   \n",
       "13110    69  1963-12-14                    Out Of Limits   \n",
       "13149    32  1963-12-21                Washington Square   \n",
       "13161    50  1963-12-21                      Maria Elena   \n",
       "13167    59  1963-12-21                    Out Of Limits   \n",
       "13217    38  1963-12-28                    Out Of Limits   \n",
       "\n",
       "                             artist1 artist2  peak_pos  wks_chart  \\\n",
       "36                      The Spacemen     NaN        41         12   \n",
       "58                     The Viscounts     NaN        88          2   \n",
       "98                      The Spacemen     NaN        41         13   \n",
       "115                    The Viscounts     NaN        77          3   \n",
       "125    Percy Faith And His Orchestra     NaN        96          1   \n",
       "...                              ...     ...       ...        ...   \n",
       "13110                   The Marketts     NaN        69          2   \n",
       "13149           The Village Stompers     NaN         2         14   \n",
       "13161           Los Indios Tabajaras     NaN         6         14   \n",
       "13167                   The Marketts     NaN        59          3   \n",
       "13217                   The Marketts     NaN        38          4   \n",
       "\n",
       "                                                   b_url  \\\n",
       "36     https://www.billboard.com/charts/hot-100/1960-...   \n",
       "58     https://www.billboard.com/charts/hot-100/1960-...   \n",
       "98     https://www.billboard.com/charts/hot-100/1960-...   \n",
       "115    https://www.billboard.com/charts/hot-100/1960-...   \n",
       "125    https://www.billboard.com/charts/hot-100/1960-...   \n",
       "...                                                  ...   \n",
       "13110  https://www.billboard.com/charts/hot-100/1963-...   \n",
       "13149  https://www.billboard.com/charts/hot-100/1963-...   \n",
       "13161  https://www.billboard.com/charts/hot-100/1963-...   \n",
       "13167  https://www.billboard.com/charts/hot-100/1963-...   \n",
       "13217  https://www.billboard.com/charts/hot-100/1963-...   \n",
       "\n",
       "                                                   g_url lyrics  \n",
       "36     https://www.genius.com/The-Spacemen-The-Clouds...    NaN  \n",
       "58     https://www.genius.com/The-Viscounts-Harlem-No...    NaN  \n",
       "98     https://www.genius.com/The-Spacemen-The-Clouds...    NaN  \n",
       "115    https://www.genius.com/The-Viscounts-Harlem-No...    NaN  \n",
       "125    https://www.genius.com/Percy-Faith-And-His-Orc...    NaN  \n",
       "...                                                  ...    ...  \n",
       "13110  https://www.genius.com/The-Marketts-Out-Of-Lim...    NaN  \n",
       "13149  https://www.genius.com/The-Village-Stompers-Wa...    NaN  \n",
       "13161  https://www.genius.com/Los-Indios-Tabajaras-Ma...    NaN  \n",
       "13167  https://www.genius.com/The-Marketts-Out-Of-Lim...    NaN  \n",
       "13217  https://www.genius.com/The-Marketts-Out-Of-Lim...    NaN  \n",
       "\n",
       "[375 rows x 10 columns]"
      ]
     },
     "execution_count": 10,
     "metadata": {},
     "output_type": "execute_result"
    }
   ],
   "source": [
    "null"
   ]
  },
  {
   "cell_type": "code",
   "execution_count": 12,
   "metadata": {},
   "outputs": [
    {
     "data": {
      "text/plain": [
       "1516"
      ]
     },
     "execution_count": 12,
     "metadata": {},
     "output_type": "execute_result"
    }
   ],
   "source": [
    "len(df.g_url.unique())"
   ]
  },
  {
   "cell_type": "code",
   "execution_count": 22,
   "metadata": {},
   "outputs": [],
   "source": [
    "df1960_1963=df[df['lyrics'].notna()]\n",
    "df1960_1963.reset_index(inplace=True, drop=True)"
   ]
  },
  {
   "cell_type": "code",
   "execution_count": 23,
   "metadata": {},
   "outputs": [],
   "source": [
    "all_df=[]\n",
    "all_df.append(df1960_1963)"
   ]
  },
  {
   "cell_type": "code",
   "execution_count": 25,
   "metadata": {},
   "outputs": [],
   "source": [
    "df=pd.read_csv('songs1964_1967.csv')\n",
    "df=df.iloc[:,1:]"
   ]
  },
  {
   "cell_type": "code",
   "execution_count": 26,
   "metadata": {},
   "outputs": [],
   "source": [
    "null=df[df['lyrics'].isnull()]"
   ]
  },
  {
   "cell_type": "code",
   "execution_count": 29,
   "metadata": {},
   "outputs": [],
   "source": [
    "df1964_1967=df[df['lyrics'].notna()]\n",
    "df1964_1967.reset_index(inplace=True, drop=True)"
   ]
  },
  {
   "cell_type": "code",
   "execution_count": 30,
   "metadata": {},
   "outputs": [],
   "source": [
    "all_df.append(df1964_1967)"
   ]
  },
  {
   "cell_type": "code",
   "execution_count": 32,
   "metadata": {},
   "outputs": [],
   "source": [
    "df=pd.read_csv('songs1968_1971.csv')\n",
    "df=df.iloc[:,1:]\n",
    "null=df[df['lyrics'].isnull()]"
   ]
  },
  {
   "cell_type": "code",
   "execution_count": null,
   "metadata": {},
   "outputs": [],
   "source": []
  },
  {
   "cell_type": "code",
   "execution_count": 35,
   "metadata": {},
   "outputs": [],
   "source": [
    "df1968_1971=df[df['lyrics'].notna()]\n",
    "df1968_1971.reset_index(inplace=True, drop=True)"
   ]
  },
  {
   "cell_type": "code",
   "execution_count": 37,
   "metadata": {},
   "outputs": [],
   "source": [
    "all_df.append(df1968_1971)"
   ]
  },
  {
   "cell_type": "code",
   "execution_count": 38,
   "metadata": {},
   "outputs": [],
   "source": [
    "df=pd.read_csv('songs1972_1975.csv')\n",
    "df=df.iloc[:,1:]\n",
    "null=df[df['lyrics'].isnull()]"
   ]
  },
  {
   "cell_type": "code",
   "execution_count": 42,
   "metadata": {},
   "outputs": [],
   "source": [
    "df1972_1975=df[df['lyrics'].notna()]\n",
    "df1972_1975.reset_index(inplace=True, drop=True)"
   ]
  },
  {
   "cell_type": "code",
   "execution_count": 44,
   "metadata": {},
   "outputs": [],
   "source": [
    "all_df.append(df1972_1975)"
   ]
  },
  {
   "cell_type": "code",
   "execution_count": 47,
   "metadata": {},
   "outputs": [],
   "source": [
    "df=pd.read_csv('songs1976_1979.csv')\n",
    "df=df.iloc[:,1:]\n",
    "null=df[df['lyrics'].isnull()]"
   ]
  },
  {
   "cell_type": "code",
   "execution_count": 50,
   "metadata": {},
   "outputs": [],
   "source": [
    "df1976_1979=df[df['lyrics'].notna()]\n",
    "df1976_1979.reset_index(inplace=True, drop=True)"
   ]
  },
  {
   "cell_type": "code",
   "execution_count": 51,
   "metadata": {},
   "outputs": [],
   "source": [
    "all_df.append(df1976_1979)"
   ]
  },
  {
   "cell_type": "code",
   "execution_count": 52,
   "metadata": {},
   "outputs": [],
   "source": [
    "df=pd.read_csv('songs1980_1983.csv')\n",
    "df=df.iloc[:,1:]\n",
    "null=df[df['lyrics'].isnull()]"
   ]
  },
  {
   "cell_type": "code",
   "execution_count": 55,
   "metadata": {},
   "outputs": [],
   "source": [
    "df1980_1983=df[df['lyrics'].notna()]\n",
    "df1980_1983.reset_index(inplace=True, drop=True)"
   ]
  },
  {
   "cell_type": "code",
   "execution_count": 56,
   "metadata": {},
   "outputs": [],
   "source": [
    "all_df.append(df1980_1983)"
   ]
  },
  {
   "cell_type": "code",
   "execution_count": 57,
   "metadata": {},
   "outputs": [],
   "source": [
    "df=pd.read_csv('songs1984_1987.csv')\n",
    "df=df.iloc[:,1:]\n",
    "null=df[df['lyrics'].isnull()]"
   ]
  },
  {
   "cell_type": "code",
   "execution_count": 59,
   "metadata": {},
   "outputs": [
    {
     "data": {
      "text/plain": [
       "array(['https://www.genius.com/Herb-Alpert-Red-Hot-lyrics',\n",
       "       'https://www.genius.com/Harold-Faltermeyer-Axel-F-lyrics',\n",
       "       'https://www.genius.com/David-Foster-Love-Theme-From-St-Elmos-Fire-Instrumental-lyrics',\n",
       "       'https://www.genius.com/Kenny-G-Songbird-lyrics'], dtype=object)"
      ]
     },
     "execution_count": 59,
     "metadata": {},
     "output_type": "execute_result"
    }
   ],
   "source": [
    "null.g_url.unique()"
   ]
  },
  {
   "cell_type": "code",
   "execution_count": 60,
   "metadata": {},
   "outputs": [],
   "source": [
    "df1984_1987=df[df['lyrics'].notna()]\n",
    "df1984_1987.reset_index(inplace=True, drop=True)"
   ]
  },
  {
   "cell_type": "code",
   "execution_count": 61,
   "metadata": {},
   "outputs": [],
   "source": [
    "all_df.append(df1984_1987)"
   ]
  },
  {
   "cell_type": "code",
   "execution_count": 62,
   "metadata": {},
   "outputs": [],
   "source": [
    "df=pd.read_csv('songs1988_1990.csv')\n",
    "df=df.iloc[:,1:]\n",
    "null=df[df['lyrics'].isnull()]"
   ]
  },
  {
   "cell_type": "code",
   "execution_count": 67,
   "metadata": {},
   "outputs": [
    {
     "data": {
      "text/plain": [
       "array(['https://www.genius.com/Kenny-G-Silhouette-lyrics',\n",
       "       'https://www.genius.com/Kenny-G-Going-Home-lyrics'], dtype=object)"
      ]
     },
     "execution_count": 67,
     "metadata": {},
     "output_type": "execute_result"
    }
   ],
   "source": [
    "null.g_url.unique()"
   ]
  },
  {
   "cell_type": "code",
   "execution_count": 64,
   "metadata": {},
   "outputs": [],
   "source": [
    "df1988_1990=df[df['lyrics'].notna()]\n",
    "df1988_1990.reset_index(inplace=True, drop=True)"
   ]
  },
  {
   "cell_type": "code",
   "execution_count": 65,
   "metadata": {},
   "outputs": [],
   "source": [
    "all_df.append(df1988_1990)"
   ]
  },
  {
   "cell_type": "code",
   "execution_count": 68,
   "metadata": {},
   "outputs": [],
   "source": [
    "df=pd.read_csv('songs1991_1995.csv')\n",
    "df=df.iloc[:,1:]\n",
    "null=df[df['lyrics'].isnull()]"
   ]
  },
  {
   "cell_type": "code",
   "execution_count": 70,
   "metadata": {},
   "outputs": [
    {
     "data": {
      "text/plain": [
       "array(['https://www.genius.com/Keith-Sweat-Your-Love-lyrics',\n",
       "       'https://www.genius.com/David-Sanborn-Bang-Bang-lyrics',\n",
       "       'https://www.genius.com/Kenny-G-Forever-In-Love-lyrics',\n",
       "       'https://www.genius.com/Kenny-G-Sentimental-lyrics'], dtype=object)"
      ]
     },
     "execution_count": 70,
     "metadata": {},
     "output_type": "execute_result"
    }
   ],
   "source": [
    "null.g_url.unique()"
   ]
  },
  {
   "cell_type": "code",
   "execution_count": 71,
   "metadata": {},
   "outputs": [],
   "source": [
    "df1991_1995=df[df['lyrics'].notna()]\n",
    "df1991_1995.reset_index(inplace=True, drop=True)"
   ]
  },
  {
   "cell_type": "code",
   "execution_count": 72,
   "metadata": {},
   "outputs": [],
   "source": [
    "all_df.append(df1991_1995)"
   ]
  },
  {
   "cell_type": "code",
   "execution_count": 73,
   "metadata": {},
   "outputs": [],
   "source": [
    "df=pd.read_csv('songs1996_1999.csv')\n",
    "df=df.iloc[:,1:]\n",
    "null=df[df['lyrics'].isnull()]"
   ]
  },
  {
   "cell_type": "code",
   "execution_count": 76,
   "metadata": {},
   "outputs": [
    {
     "data": {
      "text/plain": [
       "array(['https://www.genius.com/Robert-Miles-Children-lyrics',\n",
       "       'https://www.genius.com/Kenny-G-The-Moment-lyrics',\n",
       "       'https://www.genius.com/Davina-Come-Over-To-My-Place-lyrics'],\n",
       "      dtype=object)"
      ]
     },
     "execution_count": 76,
     "metadata": {},
     "output_type": "execute_result"
    }
   ],
   "source": [
    "null.g_url.unique() # 1960-1998 instrumental music"
   ]
  },
  {
   "cell_type": "code",
   "execution_count": 77,
   "metadata": {},
   "outputs": [],
   "source": [
    "df1996_1999=df[df['lyrics'].notna()]\n",
    "df1996_1999.reset_index(inplace=True, drop=True)"
   ]
  },
  {
   "cell_type": "code",
   "execution_count": 78,
   "metadata": {},
   "outputs": [],
   "source": [
    "all_df.append(df1996_1999)"
   ]
  },
  {
   "cell_type": "code",
   "execution_count": 80,
   "metadata": {},
   "outputs": [
    {
     "data": {
      "text/plain": [
       "10"
      ]
     },
     "execution_count": 80,
     "metadata": {},
     "output_type": "execute_result"
    }
   ],
   "source": [
    "len(all_df)"
   ]
  },
  {
   "cell_type": "code",
   "execution_count": 81,
   "metadata": {},
   "outputs": [],
   "source": [
    "songs1960_1999=pd.concat(all_df)\n",
    "songs1960_1999.reset_index(drop=True, inplace=True)"
   ]
  },
  {
   "cell_type": "code",
   "execution_count": 83,
   "metadata": {},
   "outputs": [
    {
     "data": {
      "text/plain": [
       "13683"
      ]
     },
     "execution_count": 83,
     "metadata": {},
     "output_type": "execute_result"
    }
   ],
   "source": [
    "len(songs1960_1999.g_url.unique())"
   ]
  },
  {
   "cell_type": "code",
   "execution_count": 88,
   "metadata": {},
   "outputs": [],
   "source": [
    "songs1960_1999.to_csv('songs1960_1999.csv')"
   ]
  },
  {
   "cell_type": "code",
   "execution_count": 99,
   "metadata": {},
   "outputs": [],
   "source": [
    "df=pd.read_csv('songs2000_2021.csv')\n",
    "df=df.iloc[:,1:]"
   ]
  },
  {
   "cell_type": "code",
   "execution_count": 100,
   "metadata": {},
   "outputs": [],
   "source": [
    "songs=pd.concat([songs1960_1999,df])\n",
    "songs.reset_index(inplace=True, drop=True)"
   ]
  },
  {
   "cell_type": "code",
   "execution_count": 93,
   "metadata": {},
   "outputs": [
    {
     "data": {
      "text/plain": [
       "22023"
      ]
     },
     "execution_count": 93,
     "metadata": {},
     "output_type": "execute_result"
    }
   ],
   "source": [
    "len(songs.lyrics.unique())"
   ]
  },
  {
   "cell_type": "code",
   "execution_count": 102,
   "metadata": {},
   "outputs": [],
   "source": [
    "songs.to_csv('songs.csv')"
   ]
  },
  {
   "cell_type": "code",
   "execution_count": 101,
   "metadata": {},
   "outputs": [
    {
     "data": {
      "text/html": [
       "<div>\n",
       "<style scoped>\n",
       "    .dataframe tbody tr th:only-of-type {\n",
       "        vertical-align: middle;\n",
       "    }\n",
       "\n",
       "    .dataframe tbody tr th {\n",
       "        vertical-align: top;\n",
       "    }\n",
       "\n",
       "    .dataframe thead th {\n",
       "        text-align: right;\n",
       "    }\n",
       "</style>\n",
       "<table border=\"1\" class=\"dataframe\">\n",
       "  <thead>\n",
       "    <tr style=\"text-align: right;\">\n",
       "      <th></th>\n",
       "      <th>rank</th>\n",
       "      <th>date</th>\n",
       "      <th>title</th>\n",
       "      <th>artist1</th>\n",
       "      <th>artist2</th>\n",
       "      <th>peak_pos</th>\n",
       "      <th>wks_chart</th>\n",
       "      <th>b_url</th>\n",
       "      <th>g_url</th>\n",
       "      <th>lyrics</th>\n",
       "    </tr>\n",
       "  </thead>\n",
       "  <tbody>\n",
       "    <tr>\n",
       "      <th>0</th>\n",
       "      <td>1</td>\n",
       "      <td>1960-01-04</td>\n",
       "      <td>El Paso</td>\n",
       "      <td>Marty Robbins</td>\n",
       "      <td>NaN</td>\n",
       "      <td>1</td>\n",
       "      <td>9</td>\n",
       "      <td>https://www.billboard.com/charts/hot-100/1960-...</td>\n",
       "      <td>https://www.genius.com/Marty-Robbins-El-Paso-l...</td>\n",
       "      <td>Out in the West Texas town of El PasoI fell in...</td>\n",
       "    </tr>\n",
       "    <tr>\n",
       "      <th>1</th>\n",
       "      <td>2</td>\n",
       "      <td>1960-01-04</td>\n",
       "      <td>Why</td>\n",
       "      <td>Frankie Avalon</td>\n",
       "      <td>NaN</td>\n",
       "      <td>1</td>\n",
       "      <td>7</td>\n",
       "      <td>https://www.billboard.com/charts/hot-100/1960-...</td>\n",
       "      <td>https://www.genius.com/Frankie-Avalon-Why-lyrics</td>\n",
       "      <td>I'll never let you goWhy? Because I love youI'...</td>\n",
       "    </tr>\n",
       "    <tr>\n",
       "      <th>2</th>\n",
       "      <td>4</td>\n",
       "      <td>1960-01-04</td>\n",
       "      <td>Running Bear</td>\n",
       "      <td>Johnny Preston</td>\n",
       "      <td>NaN</td>\n",
       "      <td>4</td>\n",
       "      <td>12</td>\n",
       "      <td>https://www.billboard.com/charts/hot-100/1960-...</td>\n",
       "      <td>https://www.genius.com/Johnny-Preston-Running-...</td>\n",
       "      <td>On the bank of the riverStood Running Bear, yo...</td>\n",
       "    </tr>\n",
       "    <tr>\n",
       "      <th>3</th>\n",
       "      <td>6</td>\n",
       "      <td>1960-01-04</td>\n",
       "      <td>Heartaches By The Number</td>\n",
       "      <td>Guy Mitchell</td>\n",
       "      <td>NaN</td>\n",
       "      <td>1</td>\n",
       "      <td>14</td>\n",
       "      <td>https://www.billboard.com/charts/hot-100/1960-...</td>\n",
       "      <td>https://www.genius.com/Guy-Mitchell-Heartaches...</td>\n",
       "      <td>Heartaches by the number, troubles by the scor...</td>\n",
       "    </tr>\n",
       "    <tr>\n",
       "      <th>4</th>\n",
       "      <td>7</td>\n",
       "      <td>1960-01-04</td>\n",
       "      <td>It's Time To Cry</td>\n",
       "      <td>Paul Anka</td>\n",
       "      <td>NaN</td>\n",
       "      <td>4</td>\n",
       "      <td>7</td>\n",
       "      <td>https://www.billboard.com/charts/hot-100/1960-...</td>\n",
       "      <td>https://www.genius.com/Paul-Anka-Its-Time-To-C...</td>\n",
       "      <td>When somebody leaves you, that's the time to c...</td>\n",
       "    </tr>\n",
       "    <tr>\n",
       "      <th>...</th>\n",
       "      <td>...</td>\n",
       "      <td>...</td>\n",
       "      <td>...</td>\n",
       "      <td>...</td>\n",
       "      <td>...</td>\n",
       "      <td>...</td>\n",
       "      <td>...</td>\n",
       "      <td>...</td>\n",
       "      <td>...</td>\n",
       "      <td>...</td>\n",
       "    </tr>\n",
       "    <tr>\n",
       "      <th>262298</th>\n",
       "      <td>95</td>\n",
       "      <td>2021-12-25</td>\n",
       "      <td>Freedom Was A Highway</td>\n",
       "      <td>Jimmie Allen</td>\n",
       "      <td>['Brad Paisley']</td>\n",
       "      <td>76</td>\n",
       "      <td>10</td>\n",
       "      <td>https://www.billboard.com/charts/hot-100/2021-...</td>\n",
       "      <td>https://www.genius.com/Jimmie-Allen-Freedom-Wa...</td>\n",
       "      <td>(Oh-oh, oh-oh, woo)(Oh-oh, oh-oh)Sunset throug...</td>\n",
       "    </tr>\n",
       "    <tr>\n",
       "      <th>262299</th>\n",
       "      <td>96</td>\n",
       "      <td>2021-12-25</td>\n",
       "      <td>No Love</td>\n",
       "      <td>Summer Walker</td>\n",
       "      <td>['SZA']</td>\n",
       "      <td>13</td>\n",
       "      <td>6</td>\n",
       "      <td>https://www.billboard.com/charts/hot-100/2021-...</td>\n",
       "      <td>https://www.genius.com/Summer-Walker-No-Love-l...</td>\n",
       "      <td>Oh, ooh woahOh-oh, yeahYeah, yeah, yeahIf I ha...</td>\n",
       "    </tr>\n",
       "    <tr>\n",
       "      <th>262300</th>\n",
       "      <td>97</td>\n",
       "      <td>2021-12-25</td>\n",
       "      <td>Bad Man (Smooth Criminal)</td>\n",
       "      <td>Polo G</td>\n",
       "      <td>NaN</td>\n",
       "      <td>49</td>\n",
       "      <td>5</td>\n",
       "      <td>https://www.billboard.com/charts/hot-100/2021-...</td>\n",
       "      <td>https://www.genius.com/Polo-G-Bad-Man-Smooth-C...</td>\n",
       "      <td>Lil Capalot, bitch, haSmooth criminal, Mike Ja...</td>\n",
       "    </tr>\n",
       "    <tr>\n",
       "      <th>262301</th>\n",
       "      <td>98</td>\n",
       "      <td>2021-12-25</td>\n",
       "      <td>Feel Alone</td>\n",
       "      <td>Juice WRLD</td>\n",
       "      <td>NaN</td>\n",
       "      <td>98</td>\n",
       "      <td>1</td>\n",
       "      <td>https://www.billboard.com/charts/hot-100/2021-...</td>\n",
       "      <td>https://www.genius.com/Juice-WRLD-Feel-Alone-l...</td>\n",
       "      <td>Smokin' this dope, relaxin'I ain't gon' lie, b...</td>\n",
       "    </tr>\n",
       "    <tr>\n",
       "      <th>262302</th>\n",
       "      <td>99</td>\n",
       "      <td>2021-12-25</td>\n",
       "      <td>Heart On Fire</td>\n",
       "      <td>Eric Church</td>\n",
       "      <td>NaN</td>\n",
       "      <td>89</td>\n",
       "      <td>4</td>\n",
       "      <td>https://www.billboard.com/charts/hot-100/2021-...</td>\n",
       "      <td>https://www.genius.com/Eric-Church-Heart-On-Fi...</td>\n",
       "      <td>Roosevelt Road was too rough for my old truckY...</td>\n",
       "    </tr>\n",
       "  </tbody>\n",
       "</table>\n",
       "<p>262303 rows × 10 columns</p>\n",
       "</div>"
      ],
      "text/plain": [
       "        rank        date                      title         artist1  \\\n",
       "0          1  1960-01-04                    El Paso   Marty Robbins   \n",
       "1          2  1960-01-04                        Why  Frankie Avalon   \n",
       "2          4  1960-01-04               Running Bear  Johnny Preston   \n",
       "3          6  1960-01-04   Heartaches By The Number    Guy Mitchell   \n",
       "4          7  1960-01-04           It's Time To Cry       Paul Anka   \n",
       "...      ...         ...                        ...             ...   \n",
       "262298    95  2021-12-25      Freedom Was A Highway    Jimmie Allen   \n",
       "262299    96  2021-12-25                    No Love   Summer Walker   \n",
       "262300    97  2021-12-25  Bad Man (Smooth Criminal)          Polo G   \n",
       "262301    98  2021-12-25                 Feel Alone      Juice WRLD   \n",
       "262302    99  2021-12-25              Heart On Fire     Eric Church   \n",
       "\n",
       "                 artist2  peak_pos  wks_chart  \\\n",
       "0                    NaN         1          9   \n",
       "1                    NaN         1          7   \n",
       "2                    NaN         4         12   \n",
       "3                    NaN         1         14   \n",
       "4                    NaN         4          7   \n",
       "...                  ...       ...        ...   \n",
       "262298  ['Brad Paisley']        76         10   \n",
       "262299           ['SZA']        13          6   \n",
       "262300               NaN        49          5   \n",
       "262301               NaN        98          1   \n",
       "262302               NaN        89          4   \n",
       "\n",
       "                                                    b_url  \\\n",
       "0       https://www.billboard.com/charts/hot-100/1960-...   \n",
       "1       https://www.billboard.com/charts/hot-100/1960-...   \n",
       "2       https://www.billboard.com/charts/hot-100/1960-...   \n",
       "3       https://www.billboard.com/charts/hot-100/1960-...   \n",
       "4       https://www.billboard.com/charts/hot-100/1960-...   \n",
       "...                                                   ...   \n",
       "262298  https://www.billboard.com/charts/hot-100/2021-...   \n",
       "262299  https://www.billboard.com/charts/hot-100/2021-...   \n",
       "262300  https://www.billboard.com/charts/hot-100/2021-...   \n",
       "262301  https://www.billboard.com/charts/hot-100/2021-...   \n",
       "262302  https://www.billboard.com/charts/hot-100/2021-...   \n",
       "\n",
       "                                                    g_url  \\\n",
       "0       https://www.genius.com/Marty-Robbins-El-Paso-l...   \n",
       "1        https://www.genius.com/Frankie-Avalon-Why-lyrics   \n",
       "2       https://www.genius.com/Johnny-Preston-Running-...   \n",
       "3       https://www.genius.com/Guy-Mitchell-Heartaches...   \n",
       "4       https://www.genius.com/Paul-Anka-Its-Time-To-C...   \n",
       "...                                                   ...   \n",
       "262298  https://www.genius.com/Jimmie-Allen-Freedom-Wa...   \n",
       "262299  https://www.genius.com/Summer-Walker-No-Love-l...   \n",
       "262300  https://www.genius.com/Polo-G-Bad-Man-Smooth-C...   \n",
       "262301  https://www.genius.com/Juice-WRLD-Feel-Alone-l...   \n",
       "262302  https://www.genius.com/Eric-Church-Heart-On-Fi...   \n",
       "\n",
       "                                                   lyrics  \n",
       "0       Out in the West Texas town of El PasoI fell in...  \n",
       "1       I'll never let you goWhy? Because I love youI'...  \n",
       "2       On the bank of the riverStood Running Bear, yo...  \n",
       "3       Heartaches by the number, troubles by the scor...  \n",
       "4       When somebody leaves you, that's the time to c...  \n",
       "...                                                   ...  \n",
       "262298  (Oh-oh, oh-oh, woo)(Oh-oh, oh-oh)Sunset throug...  \n",
       "262299  Oh, ooh woahOh-oh, yeahYeah, yeah, yeahIf I ha...  \n",
       "262300  Lil Capalot, bitch, haSmooth criminal, Mike Ja...  \n",
       "262301  Smokin' this dope, relaxin'I ain't gon' lie, b...  \n",
       "262302  Roosevelt Road was too rough for my old truckY...  \n",
       "\n",
       "[262303 rows x 10 columns]"
      ]
     },
     "execution_count": 101,
     "metadata": {},
     "output_type": "execute_result"
    }
   ],
   "source": [
    "songs"
   ]
  },
  {
   "cell_type": "markdown",
   "metadata": {},
   "source": [
    "## 3. Results"
   ]
  },
  {
   "cell_type": "markdown",
   "metadata": {
    "tags": []
   },
   "source": [
    "## 4. Discussion and Conclusions"
   ]
  },
  {
   "cell_type": "markdown",
   "metadata": {},
   "source": [
    "## 5. Resources Consulted"
   ]
  },
  {
   "cell_type": "markdown",
   "metadata": {},
   "source": [
    "##### 1. Dataset Creation\n",
    "Removing text in parentheses in a string (modified for brackets): https://stackoverflow.com/questions/640001/how-can-i-remove-text-within-parentheses-with-a-regex <br>\n",
    "Python regex (re) library documentation: https://www.pythontutorial.net/python-regex/python-regex-sub/ <br>\n",
    "Pandas datetime objects documentation: https://pandas.pydata.org/pandas-docs/stable/reference/api/pandas.date_range.html"
   ]
  },
  {
   "cell_type": "markdown",
   "metadata": {},
   "source": [
    "## 6. Bibliography"
   ]
  },
  {
   "cell_type": "code",
   "execution_count": null,
   "metadata": {},
   "outputs": [],
   "source": []
  }
 ],
 "metadata": {
  "kernelspec": {
   "display_name": "Python 3 (ipykernel)",
   "language": "python",
   "name": "python3"
  },
  "language_info": {
   "codemirror_mode": {
    "name": "ipython",
    "version": 3
   },
   "file_extension": ".py",
   "mimetype": "text/x-python",
   "name": "python",
   "nbconvert_exporter": "python",
   "pygments_lexer": "ipython3",
   "version": "3.10.4"
  }
 },
 "nbformat": 4,
 "nbformat_minor": 4
}
